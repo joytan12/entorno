{
 "cells": [
  {
   "cell_type": "markdown",
   "metadata": {
    "cell_id": "607d378bc99d4758b4a82b81394d937f",
    "deepnote_cell_type": "markdown",
    "id": "dNvKzKqG5Ev0"
   },
   "source": [
    "<center>\n",
    "    <img src=\"http://sct.inf.utfsm.cl/wp-content/uploads/2020/04/logo_di.png\" style=\"width:60%\">\n",
    "    <h1> INF285 - Computación Científica </h1>\n",
    "    <h2> Tarea 2</h2>\n",
    "    <h2> [S]cientific [C]omputing [T]eam </a> </h2>\n",
    "    <h2> Version: 1.00</h2>\n",
    "</center>"
   ]
  },
  {
   "cell_type": "markdown",
   "metadata": {
    "cell_id": "5007f037b44845f3bac4c6e5a950af7a",
    "deepnote_cell_type": "markdown",
    "id": "rxp9HwV-5Ev1"
   },
   "source": [
    "# Contexto\n",
    "\n",
    "Los patrones de fractura aparecen en distintos campos desde la geología a la ciencia de materiales. A veces el foco está puesto en la forma de la fractura misma, pero otros investigadores están interesados en indicadores que permiten mostrar el comportamiento del patrón. Por ejemplo, la distribución de las áreas de cada celda, la distribución de los perímetros de cada celda, o la densidad del patrón, la cual consiste en conocer el porcentaje de \"fracturas\" presentes en el patrón versus el dominio. Cuando todas las imágenes obtenidas tienen la misma dimensión no es un problema poder trabajar con ellas, pero cuando tienen tamaño distinto entre ellas puede ser catastrófico. \n",
    "\n",
    "El objetivo de la tarea es poder evaluar dos procedimientos que permitan trabajar con imágenes de patrones de fractura considerando que tienen distinto tamaño entre ellas. Para esta tarea usted cuenta con la carpeta $\\verb|img|$ donde se encuentran $6000$ imágenes a su disposición, así como también se cuenta con el archivo $\\verb|SIZE_IMG.npy|$ el cual contiene la información sobre las dimensiones de cada imagen.\n",
    "\n",
    "A continuación se entrega una serie de funciones y variables a utilizar en esta tarea."
   ]
  },
  {
   "cell_type": "markdown",
   "metadata": {
    "cell_id": "a7478430437a413d98cc735b045444f2",
    "deepnote_cell_type": "markdown",
    "id": "HwtUgM0v5Ev1"
   },
   "source": [
    "## Librerías, variables y funciones predefinidas (NO MODIFICAR)"
   ]
  },
  {
   "cell_type": "code",
   "execution_count": 330,
   "metadata": {
    "id": "dsI-RjKc6jcz"
   },
   "outputs": [],
   "source": [
    "import matplotlib.image as mpimg\n",
    "import numpy as np\n",
    "import matplotlib.pyplot as plt"
   ]
  },
  {
   "cell_type": "code",
   "execution_count": 331,
   "metadata": {
    "id": "XVoQxqsU5fyO"
   },
   "outputs": [],
   "source": [
    "def readImage(filename):\n",
    "    \"\"\"\n",
    "    input:\n",
    "    filename: (str) name of the file to read.\n",
    "    \n",
    "    output:\n",
    "    img:      (ndarray) array with dimension SIZE x SIZE.\n",
    "    \"\"\"\n",
    "    img = mpimg.imread(filename)\n",
    "    img = np.array(img)[:,:,0]\n",
    "    return img\n",
    "\n",
    "def showImage(img):\n",
    "    \"\"\"\n",
    "    input:\n",
    "    img: (ndarray) array with dimension SIZE x SIZE where 0's are black pixels and 1's white pixels.\n",
    "    \"\"\"\n",
    "    plt.imshow(img,cmap=plt.get_cmap(\"gray\"))\n",
    "    plt.axis('off')\n",
    "    plt.show()"
   ]
  },
  {
   "cell_type": "markdown",
   "metadata": {},
   "source": [
    "La función $\\verb|PCA|$ recibe la matriz $X$ con la información de las imágenes. Se aplica SVD y retorna la matriz resultante $Vh$, los coeficientes proyectados $Y$, los valores singulares $S$ y el vector de medias $\\mu$."
   ]
  },
  {
   "cell_type": "code",
   "execution_count": 332,
   "metadata": {},
   "outputs": [],
   "source": [
    "def PCA(X):\n",
    "    \"\"\"\n",
    "    input:\n",
    "    X  :(ndarray) array with data of the noisy images.\n",
    "    \n",
    "    output:\n",
    "    Vh :(ndarray) array of the principal components.\n",
    "    Y  :(ndarray) array of projected coefficients.\n",
    "    S  :(ndarray) array of singular values.\n",
    "    mu :(ndarray) array with the mean of the columns of X.\n",
    "    \"\"\"\n",
    "    # Escriba su código aquí\n",
    "    # -----------------------------------\n",
    "    mu = np.mean(X,axis=0)\n",
    "    Z = X - mu\n",
    "    _,S,Vh = np.linalg.svd(Z,full_matrices=False)\n",
    "    Y = Z @ Vh.T\n",
    "    # -----------------------------------\n",
    "    return Vh,Y,S,mu\n"
   ]
  },
  {
   "cell_type": "markdown",
   "metadata": {},
   "source": [
    "La función $\\verb|reconstruction|$, a partir de la información obtenida de la función $\\verb|PCA|$ obtiene las imágenes reconstruidas con $k$ componentes principales."
   ]
  },
  {
   "cell_type": "code",
   "execution_count": 333,
   "metadata": {},
   "outputs": [],
   "source": [
    "def reconstruction(Vh,Y,mu,k):\n",
    "    \"\"\"\n",
    "    input:\n",
    "    Vh  :(ndarray) array of the principal components.\n",
    "    Y   :(ndarray) array of projected coefficients.\n",
    "    mu  :(ndarray) 1D array of averages per column of original data.\n",
    "    k   :(int)     number of principal components to use.\n",
    "    \n",
    "    output:\n",
    "    Xr  :(ndarray) array with data of the reconstructed images with k principal components.\n",
    "    \"\"\"\n",
    "    # Escriba su código aquí\n",
    "    # -----------------------------------\n",
    "    Zr = Y[:,:k] @ Vh[:k,:]\n",
    "    Xr = Zr + mu\n",
    "    # -----------------------------------\n",
    "    return Xr"
   ]
  },
  {
   "cell_type": "markdown",
   "metadata": {},
   "source": [
    "Ejecute el siguiente código para cargar las dimensiones de cada imagen:"
   ]
  },
  {
   "cell_type": "code",
   "execution_count": 334,
   "metadata": {},
   "outputs": [],
   "source": [
    "file_size = \"SIZE_IMG.npy\"\n",
    "f = open(file_size,\"rb\")\n",
    "SIZE_IMG = np.load(f)\n",
    "f.close()"
   ]
  },
  {
   "cell_type": "markdown",
   "metadata": {},
   "source": [
    "# Pregunta 1. Padding\n",
    "\n",
    "Una forma de lidiar con imágenes de distinto tamaño, es trabajar con un único tamaño de imagen, por ejemplo, imágenes de dimensión $\\textrm{MAX\\_SIZE}\\times\\textrm{MAX\\_SIZE}$. En caso de que una imagen tenga tamaño inferior a $\\textrm{MAX\\_SIZE}\\times\\textrm{MAX\\_SIZE}$ entonces se debe rellenar la imagen con espacios en blanco, es decir, valores nulos, o más conocido como $0$-padding."
   ]
  },
  {
   "cell_type": "markdown",
   "metadata": {},
   "source": [
    "## Pregunta 1.1 Construcción de la matriz X con padding (20 puntos)\n",
    "Construya la función $\\verb|buildMatrix_pad|$, la cual debe leer las imágenes y guardar su información en la matriz $X$, asegurándose de que todas las filas de la matriz sean de dimensión $\\textrm{MAX\\_SIZE}^2$."
   ]
  },
  {
   "cell_type": "code",
   "execution_count": 335,
   "metadata": {},
   "outputs": [],
   "source": [
    "def buildMatrix_pad(N,MAX_SIZE):\n",
    "    \"\"\"\n",
    "    input:\n",
    "    N        :(int) number of images to read.\n",
    "    MAX_SIZE :(int) MAX_SIZE x MAX_SIZE is the dimension of the largest image.\n",
    "    \n",
    "    output:\n",
    "    X      :(ndarray) array with dimension N x MAX_SIZE^2 with data as row vectors.\n",
    "    \"\"\"\n",
    "    # No modificar\n",
    "    path = \"img/\"\n",
    "    \n",
    "    # Escriba su código aquí\n",
    "    # -----------------------------------\n",
    "    def correctorMatriz(matriz):\n",
    "        if matriz.shape[0] == MAX_SIZE:\n",
    "            return matriz\n",
    "        else: \n",
    "            # Crear una matriz MxM llena de ceros\n",
    "            nueva_matriz = np.zeros((MAX_SIZE, MAX_SIZE))\n",
    "            \n",
    "            # Copiar los valores de la matriz original a la parte superior izquierda de la nueva matriz\n",
    "            nueva_matriz[:matriz.shape[0], :matriz.shape[1]] = matriz\n",
    "        return nueva_matriz\n",
    "\n",
    "    def flat(mat):\n",
    "        lista = mat.flatten()\n",
    "        return lista\n",
    "    dir = lambda x: path + '/img-' + str(x) + '.jpg'\n",
    "    \n",
    "    # vectorizacion de funciones\n",
    "    dir_vec = np.vectorize(dir)\n",
    "    correctorMatriz_vec = np.vectorize(correctorMatriz, otypes=[np.ndarray])\n",
    "    readImage_vec = np.vectorize(readImage, otypes=[np.ndarray])\n",
    "    flat_vec = np.vectorize(flat, otypes=[np.ndarray])\n",
    "\n",
    "    vec = np.arange(0, N)\n",
    "    direciones = dir_vec(vec)\n",
    "    X = readImage_vec(direciones)\n",
    "    X = correctorMatriz_vec(X)\n",
    "    X = flat_vec(X)\n",
    "    X = np.vstack(X)\n",
    "    # -----------------------------------\n",
    "    return X"
   ]
  },
  {
   "cell_type": "markdown",
   "metadata": {},
   "source": [
    "Ejecute la función construida anteriormente con los siguientes parámetros:"
   ]
  },
  {
   "cell_type": "code",
   "execution_count": 336,
   "metadata": {},
   "outputs": [],
   "source": [
    "# No modificar\n",
    "N = 6000\n",
    "MAX_SIZE = 32\n",
    "Xp = buildMatrix_pad(N,MAX_SIZE)\n",
    "Vhp,Yp,Sp,mup = PCA(Xp)"
   ]
  },
  {
   "cell_type": "markdown",
   "metadata": {},
   "source": [
    "Ejecute el siguiente código que permite reconstruir la matriz $X$ utilizando por ejemplo $k = 10$ componentes principales:"
   ]
  },
  {
   "cell_type": "code",
   "execution_count": 380,
   "metadata": {},
   "outputs": [],
   "source": [
    "# No modificar\n",
    "Xpr = reconstruction(Vhp,Yp,mup,10)"
   ]
  },
  {
   "cell_type": "markdown",
   "metadata": {},
   "source": [
    "## Pregunta 1.2 Imagen reconstruida (10 puntos)\n",
    "\n",
    "Construya la función $\\verb|image_rec_pad|$, la cual a partir de la información obtenida de la matriz $\\verb|Xpr|$ que contiene la reconstrucción de las imágenes con $k$ componentes principales, retorne la imagen $\\verb|id|$-ésima."
   ]
  },
  {
   "cell_type": "code",
   "execution_count": 382,
   "metadata": {},
   "outputs": [],
   "source": [
    "def image_rec_pad(Xpr,id,MAX_SIZE,SIZE_IMG):\n",
    "    \"\"\"\n",
    "    input:\n",
    "    Xpr      :(ndarray) array with data of the reconstructed images with k principal components.\n",
    "    id       :(int)     id of the image to reconstruct.\n",
    "    MAX_SIZE :(int)     MAX_SIZE x MAX_SIZE is the dimension of the largest image.\n",
    "    SIZE_IMG :(ndarray) array with the size of the images.\n",
    "    \n",
    "    output:\n",
    "    img_r    :(ndarray) image reconstructed.\n",
    "    \"\"\"\n",
    "    # Escriba su código aquí\n",
    "    # -----------------------------------\n",
    "    img_r = Xpr[id].reshape((MAX_SIZE, MAX_SIZE))\n",
    "    img_r = img_r[:SIZE_IMG[id], :SIZE_IMG[id]]\n",
    "    # -----------------------------------\n",
    "    return img_r"
   ]
  },
  {
   "cell_type": "markdown",
   "metadata": {},
   "source": [
    "# Pregunta 2. Domain decomposition\n",
    "\n",
    "Otra forma de lidiar con imágenes de distinto tamaño, es dividir la imagen en sub-imágenes del mismo tamaño, por ejemplo, sub-imágenes de dimensión $\\textrm{D\\_SIZE}\\times\\textrm{D\\_SIZE}$. En caso de que una imagen tenga tamaño $32 \\times 32$ y $\\textrm{D\\_SIZE} = 8$, entonces la imagen será dividida en 16 sub-imágenes, cada una de tamaño $8 \\times 8$ sin **overlapping**."
   ]
  },
  {
   "cell_type": "markdown",
   "metadata": {},
   "source": [
    "## Pregunta 2.1 (20 puntos) \n",
    "Construya la función $\\verb|buildMatrix_dd|$, la cual debe leer las imágenes y guardar su información en la matriz $X$, asegurándose de que todas las filas de la matriz sean de dimensión $\\textrm{D\\_SIZE}^2$, es decir, cada fila contiene una sub-imagen obtenida de la división del dominio de cada imagen."
   ]
  },
  {
   "cell_type": "code",
   "execution_count": 512,
   "metadata": {},
   "outputs": [],
   "source": [
    "def buildMatrix_dd(N,D_SIZE,SIZE_IMG):\n",
    "    \"\"\"\n",
    "    input:\n",
    "    N         :(int)     number of images to read.\n",
    "    D_SIZE    :(int)     D_SIZE x D_SIZE is the dimension of the block image.\n",
    "    SIZE_IMG  :(ndarray) array with the size of the images.\n",
    "    \n",
    "    output:\n",
    "    X         :(ndarray) array with data as row vectors.\n",
    "    \"\"\"\n",
    "    # No modificar\n",
    "    path = \"img/\"\n",
    "    \n",
    "    # Escriba su código aquí\n",
    "    # -----------------------------------\n",
    "    def dividir(vec):\n",
    "        divisor = np.sqrt(len(vec)) / D_SIZE\n",
    "        if divisor == 1:\n",
    "            return vec\n",
    "        arreglo = np.split(vec, divisor ** 2)\n",
    "        return arreglo\n",
    "    \n",
    "    def div(mat):\n",
    "        newMat = mat.flatten()\n",
    "        newMat = dividir(newMat)\n",
    "        return newMat\n",
    "    \n",
    "    dir = lambda x: path + '/img-' + str(x) + '.jpg'\n",
    "    \n",
    "    # vectorizacion de funciones\n",
    "    dir_vec = np.vectorize(dir)\n",
    "    readImage_vec = np.vectorize(readImage, otypes=[np.ndarray])\n",
    "    div_vec = np.vectorize(div, otypes=[np.ndarray])\n",
    "\n",
    "    vector = np.arange(0, N)\n",
    "    imgDir = dir_vec(vector)\n",
    "    X = readImage_vec(imgDir)\n",
    "    X = div_vec(X)\n",
    "    X = np.vstack(X)\n",
    "    # -----------------------------------\n",
    "    return X"
   ]
  },
  {
   "cell_type": "markdown",
   "metadata": {},
   "source": [
    "Ejecute la función construida anteriormente con los siguientes parámetros:"
   ]
  },
  {
   "cell_type": "code",
   "execution_count": 615,
   "metadata": {},
   "outputs": [],
   "source": [
    "N = 6000\n",
    "D_SIZE = 8\n",
    "Xd = buildMatrix_dd(1,D_SIZE,SIZE_IMG)"
   ]
  },
  {
   "cell_type": "markdown",
   "metadata": {},
   "source": [
    "Ejecute el siguiente código que permite obtener la reconstrucción de la matriz $\\verb|Xd|$ utilizando $k=10$ componentes principales:"
   ]
  },
  {
   "cell_type": "code",
   "execution_count": 455,
   "metadata": {},
   "outputs": [],
   "source": [
    "Vhd,Yd,Sd,mud = PCA(Xd)\n",
    "Xdr = reconstruction(Vhd,Yd,mud,10)"
   ]
  },
  {
   "cell_type": "markdown",
   "metadata": {},
   "source": [
    "## Pregunta 2.2 Imagen reconstruida (20 puntos)\n",
    "\n",
    "Construya la función $\\verb|image_rec_dd|$, la cual a partir de la información obtenida de la matriz $\\verb|Xdr|$ que contiene la reconstrucción de las sub-imágenes con $k$ componentes principales, retorne la imagen $\\verb|id|$-ésima."
   ]
  },
  {
   "cell_type": "code",
   "execution_count": 666,
   "metadata": {},
   "outputs": [],
   "source": [
    "def image_rec_dd(Xdr,id,D_SIZE,SIZE_IMG):\n",
    "    \"\"\"\n",
    "    input:\n",
    "    Xdr      :(ndarray) array with data of the reconstructed images with k principal components.\n",
    "    id       :(int)     id of the image to reconstruct.\n",
    "    D_SIZE   :(int)     D_SIZE x D_SIZE is the dimension of the sub-images.\n",
    "    SIZE_IMG :(ndarray) array with the size of the images.\n",
    "    \n",
    "    output:\n",
    "    img_r    :(ndarray) image reconstructed.\n",
    "    \"\"\"\n",
    "    # Escriba su código aquí\n",
    "    # -----------------------------------\n",
    "    def reconstruir(bloques, D_SIZE):\n",
    "        divisor = int(np.sqrt(len(bloques)))\n",
    "        bloques_reshaped = bloques.reshape((divisor, divisor, D_SIZE, D_SIZE))\n",
    "        bloques_transpuesto = bloques_reshaped.transpose(0, 2, 1, 3)\n",
    "        img_rec = bloques_transpuesto.reshape((divisor * D_SIZE, divisor * D_SIZE))\n",
    "        return img_rec\n",
    "    \n",
    "\n",
    "    # unir_vec = np.vectorize(unir, otypes=[np.ndarray])\n",
    "    num = np.power(SIZE_IMG[id] // D_SIZE, 2)\n",
    "    if SIZE_IMG[id] == 32:\n",
    "        inicio = id * num\n",
    "        final = (id + 1) * num\n",
    "    else:\n",
    "        inicio = id * num + 1024 * (32 / SIZE_IMG) ** 2\n",
    "        final = (id + 1) * num + 1024 * (32 / SIZE_IMG) ** 2\n",
    "    \n",
    "    img_r = reconstruir(Xdr[inicio: final], D_SIZE)\n",
    "    img_r = np.vstack(img_r)\n",
    "    # -----------------------------------\n",
    "    return img_r"
   ]
  },
  {
   "cell_type": "markdown",
   "metadata": {},
   "source": [
    "Ejecute el siguiente código para observar, por ejemplo para la imagen con $\\verb|id=0|$, la imagen original y la reconstrucción utilizando $k = 10$ componentes principales con el procedimiento de **padding** y de **domain decomposition** respectivamente,"
   ]
  },
  {
   "cell_type": "code",
   "execution_count": 667,
   "metadata": {},
   "outputs": [
    {
     "data": {
      "image/png": "[encoded data removed]",
      "text/plain": [
       "<Figure size 640x480 with 1 Axes>"
      ]
     },
     "metadata": {},
     "output_type": "display_data"
    },
    {
     "data": {
      "image/png": "[encoded data removed]",
      "text/plain": [
       "<Figure size 640x480 with 1 Axes>"
      ]
     },
     "metadata": {},
     "output_type": "display_data"
    },
    {
     "data": {
      "image/png": "[encoded data removed]",
      "text/plain": [
       "<Figure size 640x480 with 1 Axes>"
      ]
     },
     "metadata": {},
     "output_type": "display_data"
    }
   ],
   "source": [
    "id = 100\n",
    "img = readImage(f\"img/img-{id}.jpg\")\n",
    "img_rp = image_rec_pad(Xpr,id,MAX_SIZE,SIZE_IMG)\n",
    "img_rd = image_rec_dd(Xdr,id,D_SIZE,SIZE_IMG)\n",
    "\n",
    "showImage(img)\n",
    "showImage(img_rp)\n",
    "showImage(img_rd)"
   ]
  },
  {
   "cell_type": "markdown",
   "metadata": {},
   "source": [
    "# Pregunta 3 (20 puntos)\n",
    "Considerando que usted quiere almacenar las $6000$ imágenes tanto para el caso de **padding** como en el caso de **domain decomposition**, y que para almacenar las imágenes, en ambos casos, de forma comprimida usted no almacenará las imágenes reconstruidas, sino que almacenará los vectores singulares correspondientes, el vector de medias $\\mu$ y la matriz de coeficientes, de tal manera que si usted necesita reconstruir una imagen lo puede hacer con los procedimientos desarrollados anteriormente. Explique para ambos casos:\n",
    "1. La relación entre calidad de la imagen reconstruida y uso de memoria, y\n",
    "2. determine cuál de los 2 procedimientos entrega mejores resultados considerando que se quiere ahorrar por lo menos un $50\\%$ de espacio de almacenamiento respecto a almacenar las $6000$ imágenes sin comprimir de alguna forma.\n",
    "\n",
    "Justifique claramente sus respuestas."
   ]
  },
  {
   "cell_type": "markdown",
   "metadata": {},
   "source": [
    "**---------------------------------------------------------------------------------------------------------------------------**\n",
    "\n",
    "**Respuesta:**\n",
    "-Con respecto al primer punto\n",
    "1.  En relacion con la calidad de imagen\n",
    "    * El sugundo metodo pierde menos calidad ya que tiene que manejar menor informacion relevante, no como el el primer metodo padding ya que tiene informacion de los valores nulos los cuales no son importantes pero el PCA tiene que cosiderarlos de igual manera.\n",
    "\n",
    "2.  En relacion con el uso de memoria\n",
    "    * Con respocto al segundo punto nos conviene mucho mas usar el segundo metodo, ya que se ocupa mucho menos espacio en menoria al no tener que rellenar las que sean menores con 0, es este caso las primeras 1024 eran de 32x32 y las restantes eran 16x16, con esto tenermo 4976 que tener que rellenar con valores nulos, en casos muy especificos donde las fotos sean iguales, por eso al secciorar todas las fotos en secciones iguales, pero por lo general ocupara mas espacio del que tenemos, en este caso de 8x8 lo que ocupa mucho menos espacio en menoria ya que no aumenta el espacio en memoria de ninguna foto si no que se seccionan en partes iguales asi que ocupa su espacio respectivo.\n",
    "**---------------------------------------------------------------------------------------------------------------------------**"
   ]
  },
  {
   "cell_type": "markdown",
   "metadata": {
    "cell_id": "abde950b0c784593a327786e4969e550",
    "deepnote_cell_type": "markdown",
    "id": "Yu384EIl5Ev5"
   },
   "source": [
    "**¡Ya ha llegado al final de la tarea número 2! Ahora debe enviarla antes de las 23:59 hrs. del viernes 26 de mayo!**"
   ]
  }
 ],
 "metadata": {
  "colab": {
   "provenance": []
  },
  "deepnote": {},
  "deepnote_execution_queue": [],
  "deepnote_notebook_id": "8e84f84a060e4062b39e59b2b670818c",
  "deepnote_persisted_session": {
   "createdAt": "2023-04-28T15:32:17.336Z"
  },
  "kernelspec": {
   "display_name": "Python 3 (ipykernel)",
   "language": "python",
   "name": "python3"
  },
  "language_info": {
   "codemirror_mode": {
    "name": "ipython",
    "version": 3
   },
   "file_extension": ".py",
   "mimetype": "text/x-python",
   "name": "python",
   "nbconvert_exporter": "python",
   "pygments_lexer": "ipython3",
   "version": "3.12.2"
  }
 },
 "nbformat": 4,
 "nbformat_minor": 4
}
